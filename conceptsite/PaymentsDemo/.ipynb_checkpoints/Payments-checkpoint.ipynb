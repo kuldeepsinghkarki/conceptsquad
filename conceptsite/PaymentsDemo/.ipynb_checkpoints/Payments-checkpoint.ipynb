{
 "cells": [
  {
   "cell_type": "code",
   "execution_count": 1,
   "metadata": {},
   "outputs": [
    {
     "name": "stdout",
     "output_type": "stream",
     "text": [
      "    AmountRange  Time  Mode  Receiver  Location  BalancePercent\n",
      "0             1     1     1         1         1               1\n",
      "1             1     3     1         1         1               1\n",
      "2             2     4     7         3         1               1\n",
      "3             3     3     9         5         2               2\n",
      "4             5     1     3         5         2               2\n",
      "..          ...   ...   ...       ...       ...             ...\n",
      "95            4     3     3         4         2               4\n",
      "96            5     1     3         5         2               2\n",
      "97            4     1     1         1         1               1\n",
      "98            1     1     1         1         1               1\n",
      "99            4     3     3         4         2               4\n",
      "\n",
      "[100 rows x 6 columns]\n"
     ]
    }
   ],
   "source": [
    "import numpy as np\n",
    "import matplotlib.pyplot as plt\n",
    "import pandas as pd\n",
    "from sklearn.datasets import make_blobs\n",
    "from sklearn import metrics\n",
    "from sklearn.preprocessing import StandardScaler\n",
    "from sklearn.decomposition import PCA\n",
    "\n",
    "df = pd.read_excel ('/home/iid/condaWorkFiles/Book2.xlsx', sheet_name='PaymentsData')\n",
    "print(df)"
   ]
  },
  {
   "cell_type": "code",
   "execution_count": 2,
   "metadata": {},
   "outputs": [
    {
     "name": "stdout",
     "output_type": "stream",
     "text": [
      "------------- Scaled ------------------\n",
      "[[-1.69756952 -1.12589792 -1.10503066 -1.3945401  -1.1751393  -0.91529444]\n",
      " [-1.69756952  0.66124163 -1.10503066 -1.3945401  -1.1751393  -0.91529444]\n",
      " [-0.94643256  1.55481141  1.03373836 -0.14383149 -1.1751393  -0.91529444]\n",
      " [-0.19529561  0.66124163  1.74666136  1.10687712  0.85096294  0.0092454 ]\n",
      " [ 1.3069783  -1.12589792 -0.39210765  1.10687712  0.85096294  0.0092454 ]\n",
      " [ 0.55584135 -1.12589792 -1.10503066 -1.3945401  -1.1751393  -0.91529444]\n",
      " [ 0.55584135 -0.23232814 -0.03564615 -0.7691858   0.85096294  0.0092454 ]\n",
      " [-0.94643256  1.55481141  1.03373836 -0.14383149 -1.1751393  -0.91529444]\n",
      " [-0.19529561  0.66124163  1.74666136  1.10687712  0.85096294  0.0092454 ]\n",
      " [ 1.3069783  -1.12589792 -0.39210765  1.10687712  0.85096294  0.93378524]\n",
      " [ 0.55584135 -0.23232814 -0.39210765  0.48152281  0.85096294  1.85832507]\n",
      " [ 0.55584135  0.66124163 -0.39210765  0.48152281  0.85096294  1.85832507]\n",
      " [ 1.3069783  -1.12589792 -0.39210765  1.10687712  0.85096294  0.0092454 ]\n",
      " [ 0.55584135 -1.12589792 -1.10503066 -1.3945401  -1.1751393  -0.91529444]\n",
      " [ 0.55584135 -0.23232814 -0.03564615 -0.7691858   0.85096294  0.0092454 ]\n",
      " [-0.94643256  1.55481141  1.03373836 -0.14383149 -1.1751393  -0.91529444]\n",
      " [-0.19529561  0.66124163  1.74666136  1.10687712  0.85096294  0.0092454 ]\n",
      " [ 1.3069783  -1.12589792 -0.39210765  1.10687712  0.85096294  0.93378524]\n",
      " [ 0.55584135 -0.23232814 -0.39210765  0.48152281  0.85096294  1.85832507]\n",
      " [ 0.55584135  0.66124163 -0.39210765  0.48152281  0.85096294  1.85832507]\n",
      " [-1.69756952 -1.12589792 -1.10503066 -1.3945401  -1.1751393  -0.91529444]\n",
      " [-1.69756952  0.66124163 -1.10503066 -1.3945401  -1.1751393  -0.91529444]\n",
      " [-0.94643256  1.55481141  1.03373836 -0.14383149 -1.1751393  -0.91529444]\n",
      " [-0.19529561  0.66124163  1.74666136  1.10687712  0.85096294  0.0092454 ]\n",
      " [ 1.3069783  -1.12589792 -0.39210765  1.10687712  0.85096294  0.0092454 ]\n",
      " [ 0.55584135 -1.12589792 -1.10503066 -1.3945401  -1.1751393  -0.91529444]\n",
      " [ 0.55584135 -0.23232814 -0.03564615 -0.7691858   0.85096294  0.0092454 ]\n",
      " [-0.94643256  1.55481141  1.03373836 -0.14383149 -1.1751393  -0.91529444]\n",
      " [-0.19529561  0.66124163  1.74666136  1.10687712  0.85096294  0.0092454 ]\n",
      " [ 1.3069783  -1.12589792 -0.39210765  1.10687712  0.85096294  0.93378524]\n",
      " [ 0.55584135 -0.23232814 -0.39210765  0.48152281  0.85096294  1.85832507]\n",
      " [ 0.55584135  0.66124163 -0.39210765  0.48152281  0.85096294  1.85832507]\n",
      " [ 1.3069783  -1.12589792 -0.39210765  1.10687712  0.85096294  0.0092454 ]\n",
      " [ 0.55584135 -1.12589792 -1.10503066 -1.3945401  -1.1751393  -0.91529444]\n",
      " [ 0.55584135 -0.23232814 -0.39210765  0.48152281  0.85096294  1.85832507]\n",
      " [ 0.55584135  0.66124163 -0.39210765  0.48152281  0.85096294  1.85832507]\n",
      " [-1.69756952 -1.12589792 -1.10503066 -1.3945401  -1.1751393  -0.91529444]\n",
      " [-1.69756952  0.66124163 -1.10503066 -1.3945401  -1.1751393  -0.91529444]\n",
      " [-0.94643256  1.55481141  1.03373836 -0.14383149 -1.1751393  -0.91529444]\n",
      " [-0.19529561  0.66124163  1.74666136  1.10687712  0.85096294  0.0092454 ]\n",
      " [ 1.3069783  -1.12589792 -0.39210765  1.10687712  0.85096294  0.0092454 ]\n",
      " [ 0.55584135 -1.12589792 -1.10503066 -1.3945401  -1.1751393  -0.91529444]\n",
      " [ 0.55584135 -0.23232814 -0.03564615 -0.7691858   0.85096294  0.0092454 ]\n",
      " [-0.94643256  1.55481141  1.03373836 -0.14383149 -1.1751393  -0.91529444]\n",
      " [-0.19529561  0.66124163  1.74666136  1.10687712  0.85096294  0.0092454 ]\n",
      " [ 1.3069783  -1.12589792 -0.39210765  1.10687712  0.85096294  0.93378524]\n",
      " [ 0.55584135 -0.23232814 -0.39210765  0.48152281  0.85096294  1.85832507]\n",
      " [ 0.55584135  0.66124163 -0.39210765  0.48152281  0.85096294  1.85832507]\n",
      " [ 0.55584135  0.66124163 -0.39210765  0.48152281  0.85096294  1.85832507]\n",
      " [-1.69756952 -1.12589792 -1.10503066 -1.3945401  -1.1751393  -0.91529444]\n",
      " [-1.69756952  0.66124163 -1.10503066 -1.3945401  -1.1751393  -0.91529444]\n",
      " [-0.94643256  1.55481141  1.03373836 -0.14383149 -1.1751393  -0.91529444]\n",
      " [-0.19529561  0.66124163  1.74666136  1.10687712  0.85096294  0.0092454 ]\n",
      " [ 1.3069783  -1.12589792 -0.39210765  1.10687712  0.85096294  0.0092454 ]\n",
      " [ 0.55584135 -1.12589792 -1.10503066 -1.3945401  -1.1751393  -0.91529444]\n",
      " [ 0.55584135 -0.23232814 -0.03564615 -0.7691858   0.85096294  0.0092454 ]\n",
      " [-0.94643256  1.55481141  1.03373836 -0.14383149 -1.1751393  -0.91529444]\n",
      " [-0.94643256  1.55481141  1.03373836 -0.14383149 -1.1751393  -0.91529444]\n",
      " [-0.19529561  0.66124163  1.74666136  1.10687712  0.85096294  0.0092454 ]\n",
      " [ 1.3069783  -1.12589792 -0.39210765  1.10687712  0.85096294  0.0092454 ]\n",
      " [ 0.55584135 -1.12589792 -1.10503066 -1.3945401  -1.1751393  -0.91529444]\n",
      " [ 0.55584135 -0.23232814 -0.03564615 -0.7691858   0.85096294  0.0092454 ]\n",
      " [-0.94643256  1.55481141  1.03373836 -0.14383149 -1.1751393  -0.91529444]\n",
      " [-1.69756952 -1.12589792 -1.10503066 -1.3945401  -1.1751393  -0.91529444]\n",
      " [-1.69756952  0.66124163 -1.10503066 -1.3945401  -1.1751393  -0.91529444]\n",
      " [-0.94643256  1.55481141  1.03373836 -0.14383149 -1.1751393  -0.91529444]\n",
      " [-0.19529561  0.66124163  1.74666136  1.10687712  0.85096294  0.0092454 ]\n",
      " [ 1.3069783  -1.12589792 -0.39210765  1.10687712  0.85096294  0.0092454 ]\n",
      " [ 0.55584135 -1.12589792 -1.10503066 -1.3945401  -1.1751393  -0.91529444]\n",
      " [ 0.55584135 -0.23232814 -0.03564615 -0.7691858   0.85096294  0.0092454 ]\n",
      " [-0.94643256  1.55481141  1.03373836 -0.14383149 -1.1751393  -0.91529444]\n",
      " [-0.19529561  0.66124163  1.74666136  1.10687712  0.85096294  0.0092454 ]\n",
      " [ 1.3069783  -1.12589792 -0.39210765  1.10687712  0.85096294  0.93378524]\n",
      " [ 0.55584135 -0.23232814 -0.39210765  0.48152281  0.85096294  1.85832507]\n",
      " [-1.69756952 -1.12589792 -1.10503066 -1.3945401  -1.1751393  -0.91529444]\n",
      " [-1.69756952  0.66124163 -1.10503066 -1.3945401  -1.1751393  -0.91529444]\n",
      " [-0.94643256  1.55481141  1.03373836 -0.14383149 -1.1751393  -0.91529444]\n",
      " [-0.19529561  0.66124163  1.74666136  1.10687712  0.85096294  0.0092454 ]\n",
      " [ 1.3069783  -1.12589792 -0.39210765  1.10687712  0.85096294  0.0092454 ]\n",
      " [ 0.55584135 -1.12589792 -1.10503066 -1.3945401  -1.1751393  -0.91529444]\n",
      " [ 0.55584135 -0.23232814 -0.03564615 -0.7691858   0.85096294  0.0092454 ]\n",
      " [-0.94643256  1.55481141  1.03373836 -0.14383149 -1.1751393  -0.91529444]\n",
      " [-0.19529561  0.66124163  1.74666136  1.10687712  0.85096294  0.0092454 ]\n",
      " [ 1.3069783  -1.12589792 -0.39210765  1.10687712  0.85096294  0.93378524]\n",
      " [ 0.55584135 -0.23232814 -0.39210765  0.48152281  0.85096294  1.85832507]\n",
      " [-0.19529561  0.66124163  1.74666136  1.10687712  0.85096294  0.0092454 ]\n",
      " [ 1.3069783  -1.12589792 -0.39210765  1.10687712  0.85096294  0.93378524]\n",
      " [ 0.55584135 -0.23232814 -0.39210765  0.48152281  0.85096294  1.85832507]\n",
      " [ 0.55584135  0.66124163 -0.39210765  0.48152281  0.85096294  1.85832507]\n",
      " [-1.69756952 -1.12589792 -1.10503066 -1.3945401  -1.1751393  -0.91529444]\n",
      " [-1.69756952  0.66124163 -1.10503066 -1.3945401  -1.1751393  -0.91529444]\n",
      " [-0.94643256  1.55481141  1.03373836 -0.14383149 -1.1751393  -0.91529444]\n",
      " [-0.19529561  0.66124163  1.74666136  1.10687712  0.85096294  0.0092454 ]\n",
      " [ 1.3069783  -1.12589792 -0.39210765  1.10687712  0.85096294  0.0092454 ]\n",
      " [ 0.55584135 -1.12589792 -1.10503066 -1.3945401  -1.1751393  -0.91529444]\n",
      " [ 0.55584135  0.66124163 -0.39210765  0.48152281  0.85096294  1.85832507]\n",
      " [ 1.3069783  -1.12589792 -0.39210765  1.10687712  0.85096294  0.0092454 ]\n",
      " [ 0.55584135 -1.12589792 -1.10503066 -1.3945401  -1.1751393  -0.91529444]\n",
      " [-1.69756952 -1.12589792 -1.10503066 -1.3945401  -1.1751393  -0.91529444]\n",
      " [ 0.55584135  0.66124163 -0.39210765  0.48152281  0.85096294  1.85832507]]\n"
     ]
    }
   ],
   "source": [
    "from sklearn.preprocessing import StandardScaler\n",
    "scalar = StandardScaler().fit(df.values)\n",
    "x = scalar.transform(df.values)\n",
    "print('------------- Scaled ------------------')\n",
    "print(x)"
   ]
  },
  {
   "cell_type": "code",
   "execution_count": 3,
   "metadata": {},
   "outputs": [
    {
     "name": "stdout",
     "output_type": "stream",
     "text": [
      "----------------- Dimensions Reduced --------------------- \n",
      "[[ 2.56423287  1.30327767]\n",
      " [ 2.74752201  0.1573566 ]\n",
      " [ 1.6088283  -1.93850669]\n",
      " [-1.07363002 -1.9411404 ]\n",
      " [-1.67671361  1.03351005]\n",
      " [ 1.52461447  1.95279131]\n",
      " [-0.3683055   0.52695544]\n",
      " [ 1.6088283  -1.93850669]\n",
      " [-1.07363002 -1.9411404 ]\n",
      " [-2.11539556  1.09186389]\n",
      " [-1.81063631  0.53259615]\n",
      " [-1.71899174 -0.04036439]\n",
      " [-1.67671361  1.03351005]\n",
      " [ 1.52461447  1.95279131]\n",
      " [-0.3683055   0.52695544]\n",
      " [ 1.6088283  -1.93850669]\n",
      " [-1.07363002 -1.9411404 ]\n",
      " [-2.11539556  1.09186389]\n",
      " [-1.81063631  0.53259615]\n",
      " [-1.71899174 -0.04036439]\n",
      " [ 2.56423287  1.30327767]\n",
      " [ 2.74752201  0.1573566 ]\n",
      " [ 1.6088283  -1.93850669]\n",
      " [-1.07363002 -1.9411404 ]\n",
      " [-1.67671361  1.03351005]\n",
      " [ 1.52461447  1.95279131]\n",
      " [-0.3683055   0.52695544]\n",
      " [ 1.6088283  -1.93850669]\n",
      " [-1.07363002 -1.9411404 ]\n",
      " [-2.11539556  1.09186389]\n",
      " [-1.81063631  0.53259615]\n",
      " [-1.71899174 -0.04036439]\n",
      " [-1.67671361  1.03351005]\n",
      " [ 1.52461447  1.95279131]\n",
      " [-1.81063631  0.53259615]\n",
      " [-1.71899174 -0.04036439]\n",
      " [ 2.56423287  1.30327767]\n",
      " [ 2.74752201  0.1573566 ]\n",
      " [ 1.6088283  -1.93850669]\n",
      " [-1.07363002 -1.9411404 ]\n",
      " [-1.67671361  1.03351005]\n",
      " [ 1.52461447  1.95279131]\n",
      " [-0.3683055   0.52695544]\n",
      " [ 1.6088283  -1.93850669]\n",
      " [-1.07363002 -1.9411404 ]\n",
      " [-2.11539556  1.09186389]\n",
      " [-1.81063631  0.53259615]\n",
      " [-1.71899174 -0.04036439]\n",
      " [-1.71899174 -0.04036439]\n",
      " [ 2.56423287  1.30327767]\n",
      " [ 2.74752201  0.1573566 ]\n",
      " [ 1.6088283  -1.93850669]\n",
      " [-1.07363002 -1.9411404 ]\n",
      " [-1.67671361  1.03351005]\n",
      " [ 1.52461447  1.95279131]\n",
      " [-0.3683055   0.52695544]\n",
      " [ 1.6088283  -1.93850669]\n",
      " [ 1.6088283  -1.93850669]\n",
      " [-1.07363002 -1.9411404 ]\n",
      " [-1.67671361  1.03351005]\n",
      " [ 1.52461447  1.95279131]\n",
      " [-0.3683055   0.52695544]\n",
      " [ 1.6088283  -1.93850669]\n",
      " [ 2.56423287  1.30327767]\n",
      " [ 2.74752201  0.1573566 ]\n",
      " [ 1.6088283  -1.93850669]\n",
      " [-1.07363002 -1.9411404 ]\n",
      " [-1.67671361  1.03351005]\n",
      " [ 1.52461447  1.95279131]\n",
      " [-0.3683055   0.52695544]\n",
      " [ 1.6088283  -1.93850669]\n",
      " [-1.07363002 -1.9411404 ]\n",
      " [-2.11539556  1.09186389]\n",
      " [-1.81063631  0.53259615]\n",
      " [ 2.56423287  1.30327767]\n",
      " [ 2.74752201  0.1573566 ]\n",
      " [ 1.6088283  -1.93850669]\n",
      " [-1.07363002 -1.9411404 ]\n",
      " [-1.67671361  1.03351005]\n",
      " [ 1.52461447  1.95279131]\n",
      " [-0.3683055   0.52695544]\n",
      " [ 1.6088283  -1.93850669]\n",
      " [-1.07363002 -1.9411404 ]\n",
      " [-2.11539556  1.09186389]\n",
      " [-1.81063631  0.53259615]\n",
      " [-1.07363002 -1.9411404 ]\n",
      " [-2.11539556  1.09186389]\n",
      " [-1.81063631  0.53259615]\n",
      " [-1.71899174 -0.04036439]\n",
      " [ 2.56423287  1.30327767]\n",
      " [ 2.74752201  0.1573566 ]\n",
      " [ 1.6088283  -1.93850669]\n",
      " [-1.07363002 -1.9411404 ]\n",
      " [-1.67671361  1.03351005]\n",
      " [ 1.52461447  1.95279131]\n",
      " [-1.71899174 -0.04036439]\n",
      " [-1.67671361  1.03351005]\n",
      " [ 1.52461447  1.95279131]\n",
      " [ 2.56423287  1.30327767]\n",
      " [-1.71899174 -0.04036439]]\n"
     ]
    }
   ],
   "source": [
    "pcaAnalyzer = PCA(n_components=2).fit(x)\n",
    "pca = pcaAnalyzer.transform(x)\n",
    "print(\"----------------- Dimensions Reduced --------------------- \")\n",
    "print(pca)"
   ]
  },
  {
   "cell_type": "code",
   "execution_count": 4,
   "metadata": {},
   "outputs": [
    {
     "data": {
      "text/plain": [
       "OneClassSVM(cache_size=200, coef0=0.0, degree=3, gamma='scale', kernel='rbf',\n",
       "            max_iter=-1, nu=0.5, shrinking=True, tol=0.001, verbose=False)"
      ]
     },
     "execution_count": 4,
     "metadata": {},
     "output_type": "execute_result"
    }
   ],
   "source": [
    "from sklearn import svm\n",
    "clf = svm.OneClassSVM(nu=0.1, kernel=\"rbf\", gamma=0.1)\n",
    "clf.fit(pca)\n",
    "svm.OneClassSVM()"
   ]
  },
  {
   "cell_type": "code",
   "execution_count": 5,
   "metadata": {},
   "outputs": [
    {
     "name": "stdout",
     "output_type": "stream",
     "text": [
      " ================================== New Payment Record =========================\n",
      "   AmountRange  Time  Mode  Receiver  Location  BalancePercent\n",
      "0            1     2     2         2         3               2\n",
      "------------------------------- New Record after Standardization -----------------\n",
      "[[-1.69756952 -0.23232814 -0.74856916 -0.7691858   2.87706519  0.0092454 ]]\n"
     ]
    }
   ],
   "source": [
    "newPaymentRecord = pd.read_excel ('/home/iid/condaWorkFiles/Book2.xlsx', sheet_name='NewData')\n",
    "print(\" ================================== New Payment Record =========================\")\n",
    "print(newPaymentRecord)\n",
    "newRecStandardized = scalar.transform(newPaymentRecord.values)\n",
    "print(\"------------------------------- New Record after Standardization -----------------\")\n",
    "print(newRecStandardized)"
   ]
  },
  {
   "cell_type": "code",
   "execution_count": 6,
   "metadata": {},
   "outputs": [
    {
     "name": "stdout",
     "output_type": "stream",
     "text": [
      "[[-0.34157544  0.30115638]]\n"
     ]
    }
   ],
   "source": [
    "newRefinedRecord = pcaAnalyzer.transform(newRecStandardized)\n",
    "print(newRefinedRecord)"
   ]
  },
  {
   "cell_type": "code",
   "execution_count": 7,
   "metadata": {},
   "outputs": [
    {
     "name": "stdout",
     "output_type": "stream",
     "text": [
      "This is safe transaction\n",
      "[1]\n"
     ]
    }
   ],
   "source": [
    "val = clf.predict(newRefinedRecord)\n",
    "if val[0] == 1 :\n",
    "   print('This is safe transaction')\n",
    "else :\n",
    "   print('This is suspicious transaction')\n",
    "print(val)"
   ]
  },
  {
   "cell_type": "code",
   "execution_count": 8,
   "metadata": {},
   "outputs": [
    {
     "name": "stdout",
     "output_type": "stream",
     "text": [
      "[[-3.39558392 -1.06181919]]\n"
     ]
    }
   ],
   "source": [
    "# sampel outlier\n",
    "outlier = scalar.transform([[5,4,5,4,4,2]])\n",
    "outlier  = pcaAnalyzer.transform(outlier)\n",
    "print(outlier)"
   ]
  },
  {
   "cell_type": "code",
   "execution_count": 9,
   "metadata": {},
   "outputs": [
    {
     "data": {
      "text/plain": [
       "array([-1])"
      ]
     },
     "execution_count": 9,
     "metadata": {},
     "output_type": "execute_result"
    }
   ],
   "source": [
    "clf.predict(outlier)\n"
   ]
  },
  {
   "cell_type": "code",
   "execution_count": 10,
   "metadata": {},
   "outputs": [],
   "source": [
    "import matplotlib.font_manager\n",
    "xx, yy = np.meshgrid(np.linspace(-5, 5, 500), np.linspace(-5, 5, 500))\n"
   ]
  },
  {
   "cell_type": "code",
   "execution_count": 11,
   "metadata": {},
   "outputs": [
    {
     "name": "stdout",
     "output_type": "stream",
     "text": [
      "[[ 2.56423287  1.30327767]\n",
      " [ 2.74752201  0.1573566 ]\n",
      " [ 1.6088283  -1.93850669]\n",
      " [-1.07363002 -1.9411404 ]\n",
      " [-1.67671361  1.03351005]\n",
      " [ 1.52461447  1.95279131]\n",
      " [-0.3683055   0.52695544]\n",
      " [ 1.6088283  -1.93850669]\n",
      " [-1.07363002 -1.9411404 ]\n",
      " [-2.11539556  1.09186389]\n",
      " [-1.81063631  0.53259615]\n",
      " [-1.71899174 -0.04036439]\n",
      " [-1.67671361  1.03351005]\n",
      " [ 1.52461447  1.95279131]\n",
      " [-0.3683055   0.52695544]\n",
      " [ 1.6088283  -1.93850669]\n",
      " [-1.07363002 -1.9411404 ]\n",
      " [-2.11539556  1.09186389]\n",
      " [-1.81063631  0.53259615]\n",
      " [-1.71899174 -0.04036439]\n",
      " [ 2.56423287  1.30327767]\n",
      " [ 2.74752201  0.1573566 ]\n",
      " [ 1.6088283  -1.93850669]\n",
      " [-1.07363002 -1.9411404 ]\n",
      " [-1.67671361  1.03351005]\n",
      " [ 1.52461447  1.95279131]\n",
      " [-0.3683055   0.52695544]\n",
      " [ 1.6088283  -1.93850669]\n",
      " [-1.07363002 -1.9411404 ]\n",
      " [-2.11539556  1.09186389]\n",
      " [-1.81063631  0.53259615]\n",
      " [-1.71899174 -0.04036439]\n",
      " [-1.67671361  1.03351005]\n",
      " [ 1.52461447  1.95279131]\n",
      " [-1.81063631  0.53259615]\n",
      " [-1.71899174 -0.04036439]\n",
      " [ 2.56423287  1.30327767]\n",
      " [ 2.74752201  0.1573566 ]\n",
      " [ 1.6088283  -1.93850669]\n",
      " [-1.07363002 -1.9411404 ]\n",
      " [-1.67671361  1.03351005]\n",
      " [ 1.52461447  1.95279131]\n",
      " [-0.3683055   0.52695544]\n",
      " [ 1.6088283  -1.93850669]\n",
      " [-1.07363002 -1.9411404 ]\n",
      " [-2.11539556  1.09186389]\n",
      " [-1.81063631  0.53259615]\n",
      " [-1.71899174 -0.04036439]\n",
      " [-1.71899174 -0.04036439]\n",
      " [ 2.56423287  1.30327767]\n",
      " [ 2.74752201  0.1573566 ]\n",
      " [ 1.6088283  -1.93850669]\n",
      " [-1.07363002 -1.9411404 ]\n",
      " [-1.67671361  1.03351005]\n",
      " [ 1.52461447  1.95279131]\n",
      " [-0.3683055   0.52695544]\n",
      " [ 1.6088283  -1.93850669]\n",
      " [ 1.6088283  -1.93850669]\n",
      " [-1.07363002 -1.9411404 ]\n",
      " [-1.67671361  1.03351005]\n",
      " [ 1.52461447  1.95279131]\n",
      " [-0.3683055   0.52695544]\n",
      " [ 1.6088283  -1.93850669]\n",
      " [ 2.56423287  1.30327767]\n",
      " [ 2.74752201  0.1573566 ]\n",
      " [ 1.6088283  -1.93850669]\n",
      " [-1.07363002 -1.9411404 ]\n",
      " [-1.67671361  1.03351005]\n",
      " [ 1.52461447  1.95279131]\n",
      " [-0.3683055   0.52695544]\n",
      " [ 1.6088283  -1.93850669]\n",
      " [-1.07363002 -1.9411404 ]\n",
      " [-2.11539556  1.09186389]\n",
      " [-1.81063631  0.53259615]\n",
      " [ 2.56423287  1.30327767]\n",
      " [ 2.74752201  0.1573566 ]\n",
      " [ 1.6088283  -1.93850669]\n",
      " [-1.07363002 -1.9411404 ]\n",
      " [-1.67671361  1.03351005]\n",
      " [ 1.52461447  1.95279131]\n",
      " [-0.3683055   0.52695544]\n",
      " [ 1.6088283  -1.93850669]\n",
      " [-1.07363002 -1.9411404 ]\n",
      " [-2.11539556  1.09186389]\n",
      " [-1.81063631  0.53259615]\n",
      " [-1.07363002 -1.9411404 ]\n",
      " [-2.11539556  1.09186389]\n",
      " [-1.81063631  0.53259615]\n",
      " [-1.71899174 -0.04036439]\n",
      " [ 2.56423287  1.30327767]\n",
      " [ 2.74752201  0.1573566 ]\n",
      " [ 1.6088283  -1.93850669]\n",
      " [-1.07363002 -1.9411404 ]\n",
      " [-1.67671361  1.03351005]\n",
      " [ 1.52461447  1.95279131]\n",
      " [-1.71899174 -0.04036439]\n",
      " [-1.67671361  1.03351005]\n",
      " [ 1.52461447  1.95279131]\n",
      " [ 2.56423287  1.30327767]\n",
      " [-1.71899174 -0.04036439]]\n"
     ]
    },
    {
     "data": {
      "image/png": "[encoded data removed]",
      "text/plain": [
       "<Figure size 432x288 with 1 Axes>"
      ]
     },
     "metadata": {
      "needs_background": "light"
     },
     "output_type": "display_data"
    }
   ],
   "source": [
    "\n",
    "\n",
    "# plot the line, the points, and the nearest vectors to the plane\n",
    "Z = clf.decision_function(np.c_[xx.ravel(), yy.ravel()])\n",
    "Z = Z.reshape(xx.shape)\n",
    "\n",
    "y_pred_train = clf.predict(pca)\n",
    "y_pred_test = clf.predict(newRefinedRecord)\n",
    "y_pred_outliers = clf.predict(outlier)\n",
    "n_error_train = y_pred_train[y_pred_train == -1].size\n",
    "n_error_test = y_pred_test[y_pred_test == -1].size\n",
    "n_error_outliers = y_pred_outliers[y_pred_outliers == 1].size\n",
    "\n",
    "plt.title(\"Payments Data in n-Dimensonal Space\")\n",
    "plt.contourf(xx, yy, Z, levels=np.linspace(Z.min(), 0, 7), cmap=plt.cm.PuBu)\n",
    "a = plt.contour(xx, yy, Z, levels=[0], linewidths=2, colors='darkred')\n",
    "plt.contourf(xx, yy, Z, levels=[0, Z.max()], colors='palevioletred')\n",
    "\n",
    "s = 40\n",
    "b1 = plt.scatter(pca[:, 0], pca[:, 1], c='white', s=s, edgecolors='k')\n",
    "b2 = plt.scatter(newRefinedRecord[:, 0], newRefinedRecord[:, 1], c='blueviolet', s=100,\n",
    "                 edgecolors='k')\n",
    "c = plt.scatter(outlier[:, 0], outlier[:, 1], c='gold', s=200,\n",
    "                edgecolors='k')\n",
    "\n",
    "plt.axis('tight')\n",
    "plt.xlim((-5, 5))\n",
    "plt.ylim((-5, 9))\n",
    "plt.legend([a.collections[0], b1, b2, c],\n",
    "           [\"learned frontier\", \"training observations\",\n",
    "            \"new regular observations\", \"new abnormal observations\"],\n",
    "           loc=\"upper left\",\n",
    "           prop=matplotlib.font_manager.FontProperties(size=11))\n",
    "plt.show()"
   ]
  },
  {
   "cell_type": "code",
   "execution_count": 12,
   "metadata": {},
   "outputs": [
    {
     "name": "stdout",
     "output_type": "stream",
     "text": [
      "Enter model for valueghf\n",
      "5ecb712965bda3fc9bfb3603  saved/updated with this id successfully!\n"
     ]
    }
   ],
   "source": [
    "import ModelSaver as ms\n",
    "modelFor = input('Enter model for value')\n",
    "details = ms.saveTrainedModel(clf,pca,scalar,pcaAnalyzer,modelFor)\n"
   ]
  },
  {
   "cell_type": "code",
   "execution_count": 13,
   "metadata": {},
   "outputs": [
    {
     "name": "stdout",
     "output_type": "stream",
     "text": [
      "OneClassSVM(cache_size=200, coef0=0.0, degree=3, gamma=0.1, kernel='rbf',\n",
      "            max_iter=-1, nu=0.1, shrinking=True, tol=0.001, verbose=False)\n"
     ]
    }
   ],
   "source": [
    "fetchedModel  = ms.loadTrainedModel(modelFor)\n",
    "print(fetchedModel)"
   ]
  },
  {
   "cell_type": "code",
   "execution_count": 14,
   "metadata": {},
   "outputs": [
    {
     "data": {
      "text/plain": [
       "array([-1])"
      ]
     },
     "execution_count": 14,
     "metadata": {},
     "output_type": "execute_result"
    }
   ],
   "source": [
    "fetchedModel.predict(outlier)"
   ]
  }
 ],
 "metadata": {
  "kernelspec": {
   "display_name": "Python 3",
   "language": "python",
   "name": "python3"
  },
  "language_info": {
   "codemirror_mode": {
    "name": "ipython",
    "version": 3
   },
   "file_extension": ".py",
   "mimetype": "text/x-python",
   "name": "python",
   "nbconvert_exporter": "python",
   "pygments_lexer": "ipython3",
   "version": "3.7.6"
  }
 },
 "nbformat": 4,
 "nbformat_minor": 4
}
